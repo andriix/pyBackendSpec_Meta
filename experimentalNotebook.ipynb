{
 "cells": [
  {
   "cell_type": "code",
   "execution_count": 2,
   "metadata": {},
   "outputs": [
    {
     "name": "stdout",
     "output_type": "stream",
     "text": [
      "how much for the suit\n",
      "the suit is OK\n",
      "now, you are a distinquished gentleman:\n"
     ]
    }
   ],
   "source": [
    "print(\"how much for the suit\")\n",
    "suitPrice = float(input())\n",
    "if suitPrice < 1000:\n",
    "    print(\"cheap suit\")\n",
    "elif 1000 <= suitPrice < 2000:\n",
    "    print(\"the suit is OK\")\n",
    "else:\n",
    "    print(\"expensive suit\")\n",
    "\n",
    "print(\"now, you are a distinquished gentleman:\")"
   ]
  }
 ],
 "metadata": {
  "kernelspec": {
   "display_name": "Python 3",
   "language": "python",
   "name": "python3"
  },
  "language_info": {
   "codemirror_mode": {
    "name": "ipython",
    "version": 3
   },
   "file_extension": ".py",
   "mimetype": "text/x-python",
   "name": "python",
   "nbconvert_exporter": "python",
   "pygments_lexer": "ipython3",
   "version": "3.11.9"
  }
 },
 "nbformat": 4,
 "nbformat_minor": 2
}
